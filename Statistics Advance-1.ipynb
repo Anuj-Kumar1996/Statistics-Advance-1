{
 "cells": [
  {
   "cell_type": "markdown",
   "id": "f4a34733",
   "metadata": {},
   "source": [
    "Q1. What is the Probability density function?\n",
    "\n",
    "Probability distribution indicates how probabilities are allocated over the distinct values for an unexpected variable. A probability distribution has various belongings like predicted value and variance which can be calculated. Even when all the values of an unexpected variable are aligned on the graph, then the value of probabilities yields a shape"
   ]
  },
  {
   "cell_type": "markdown",
   "id": "47cba95f",
   "metadata": {},
   "source": [
    "Q1.What are the types of Probability distribution?\n",
    "\n",
    "\n",
    "\n",
    "\n",
    "There are two types of probability distributions:\n",
    "\n",
    "1)Discrete probability distributions\n",
    "2)Continuous probability distributions"
   ]
  },
  {
   "cell_type": "code",
   "execution_count": 3,
   "id": "1ccd1b80",
   "metadata": {},
   "outputs": [
    {
     "name": "stdout",
     "output_type": "stream",
     "text": [
      "PDF at point 1.5: 0.1295\n"
     ]
    }
   ],
   "source": [
    "\n",
    "\n",
    "from scipy.stats import norm\n",
    "\n",
    "def normal_pdf(x, mean, std_dev):\n",
    " \n",
    "    pdf_value = norm.pdf(x, loc=mean, scale=std_dev)\n",
    "    return pdf_value\n",
    "\n",
    "# Example usage:\n",
    "mean = 0\n",
    "std_dev = 1\n",
    "point = 1.5\n",
    "pdf_at_point = normal_pdf(point, mean, std_dev)\n",
    "print(\"PDF at point {}: {:.4f}\".format(point, pdf_at_point))\n"
   ]
  },
  {
   "cell_type": "markdown",
   "id": "1ef39b41",
   "metadata": {},
   "source": [
    "Q4. What are the properties of Binomial distribution? Give two examples of events where binomial\n",
    "distribution can be applied.\n",
    "\n",
    "Fixed Number of Trials: The binomial distribution assumes a fixed number of trials (n), meaning that the number of experiments or attempts is predetermined and remains constant throughout.\n",
    "\n",
    "Independent Trials: Each trial is assumed to be independent, meaning the outcome of one trial does not influence the outcomes of other trials. The success or failure in one trial does not affect the success or failure in subsequent trials.\n",
    "\n",
    "Two Possible Outcomes: Each trial can result in one of two outcomes: success (S) with probability p or failure (F) with probability q, where q = 1 - p.\n",
    "\n",
    "Constant Probability: The probability of success (p) remains constant across all trials. In other words, the probability of success in each trial is the same.\n",
    "\n",
    "Discrete Distribution: The binomial distribution is a discrete distribution, meaning it is defined for discrete random variables (whole numbers) representing the count of successes.\n",
    "\n",
    "Coin Tossing: Consider a fair coin being tossed 10 times. Each toss has two possible outcomes: \"heads\" (success) or \"tails\" (failure). The probability of getting heads in a fair coin toss is 0.5. We can use the binomial distribution to calculate the probability of getting a specific number of heads (say, 5 heads out of 10 tosses) or the probability of getting at least a certain number of heads.\n",
    "\n",
    "Quality Control: Suppose a manufacturing process produces items that may be defective or non-defective. Each item is inspected, and it is known that the probability of an item being defective is 0.1. If we inspect 50 items, we can use the binomial distribution to determine the probability of finding a specific number of defective items or the probability of finding fewer than a certain number of defective items."
   ]
  },
  {
   "cell_type": "code",
   "execution_count": 5,
   "id": "e6ad4909",
   "metadata": {},
   "outputs": [
    {
     "data": {
      "image/png": "[encoded data removed]",
      "text/plain": [
       "<Figure size 640x480 with 1 Axes>"
      ]
     },
     "metadata": {},
     "output_type": "display_data"
    }
   ],
   "source": [
    "#Q5. Generate a random sample of size 1000 from a binomial distribution with probability of success 0.4\n",
    "#and plot a histogram of the results using matplotlib.\n",
    "\n",
    "\n",
    "import numpy as np\n",
    "import matplotlib.pyplot as plt\n",
    "\n",
    "def generate_binomial_sample(size, prob_success):\n",
    "  \n",
    "    return np.random.binomial(1, prob_success, size)\n",
    "\n",
    "# Parameters for the binomial distribution\n",
    "sample_size = 1000\n",
    "probability_success = 0.4\n",
    "\n",
    "# Generate the random sample\n",
    "sample = generate_binomial_sample(sample_size, probability_success)\n",
    "\n",
    "# Plot the histogram\n",
    "plt.hist(sample, bins=2, edgecolor='black')\n",
    "plt.xticks([0, 1], ['Failure', 'Success'])\n",
    "plt.xlabel('Outcome')\n",
    "plt.ylabel('Frequency')\n",
    "plt.title('Histogram of Binomial Distribution')\n",
    "plt.show()\n"
   ]
  },
  {
   "cell_type": "markdown",
   "id": "c988f77e",
   "metadata": {},
   "source": [
    "Q6. Write a Python function to calculate the cumulative distribution function of a Poisson distribution\n",
    "with given mean at a given point."
   ]
  },
  {
   "cell_type": "code",
   "execution_count": 6,
   "id": "6a142844",
   "metadata": {},
   "outputs": [
    {
     "name": "stdout",
     "output_type": "stream",
     "text": [
      "CDF at point 2: 0.3208\n"
     ]
    }
   ],
   "source": [
    "from scipy.stats import poisson\n",
    "\n",
    "def poisson_cdf(x, mean):\n",
    "\n",
    "    cdf_value = poisson.cdf(x, mu=mean)\n",
    "    return cdf_value\n",
    "\n",
    "# Example usage:\n",
    "mean = 3.5\n",
    "point = 2\n",
    "cdf_at_point = poisson_cdf(point, mean)\n",
    "print(\"CDF at point {}: {:.4f}\".format(point, cdf_at_point))\n"
   ]
  },
  {
   "cell_type": "markdown",
   "id": "7a8129c0",
   "metadata": {},
   "source": [
    "Q7. How Binomial distribution different from Poisson distribution?\n",
    "\n",
    "\n",
    "Binomial distribution describes the distribution of binary data from a finite sample. Thus it gives the probability of getting r events out of n trials. Poisson distribution describes the distribution of binary data from an infinite sample. Thus it gives the probability of getting r events in a population"
   ]
  },
  {
   "cell_type": "code",
   "execution_count": 8,
   "id": "eb2a1c22",
   "metadata": {},
   "outputs": [
    {
     "name": "stdout",
     "output_type": "stream",
     "text": [
      "Sample Mean: 4.888\n",
      "Sample Variance: 4.741456\n"
     ]
    }
   ],
   "source": [
    "import numpy as np\n",
    "\n",
    "def generate_poisson_sample(size, mean):\n",
    "    \n",
    "    return np.random.poisson(mean, size)\n",
    "\n",
    "# Parameters for the Poisson distribution\n",
    "sample_size = 1000\n",
    "mean = 5\n",
    "\n",
    "# Generate the random sample\n",
    "sample = generate_poisson_sample(sample_size, mean)\n",
    "\n",
    "# Calculate the sample mean and variance\n",
    "sample_mean = np.mean(sample)\n",
    "sample_variance = np.var(sample)\n",
    "\n",
    "print(\"Sample Mean:\", sample_mean)\n",
    "print(\"Sample Variance:\", sample_variance)\n"
   ]
  },
  {
   "cell_type": "code",
   "execution_count": null,
   "id": "07ecc2cf",
   "metadata": {},
   "outputs": [],
   "source": []
  }
 ],
 "metadata": {
  "kernelspec": {
   "display_name": "Python 3 (ipykernel)",
   "language": "python",
   "name": "python3"
  },
  "language_info": {
   "codemirror_mode": {
    "name": "ipython",
    "version": 3
   },
   "file_extension": ".py",
   "mimetype": "text/x-python",
   "name": "python",
   "nbconvert_exporter": "python",
   "pygments_lexer": "ipython3",
   "version": "3.9.13"
  }
 },
 "nbformat": 4,
 "nbformat_minor": 5
}
